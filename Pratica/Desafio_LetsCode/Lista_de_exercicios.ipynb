{
 "cells": [
  {
   "cell_type": "markdown",
   "metadata": {},
   "source": [
    "#### Lista de exercícios - Python"
   ]
  },
  {
   "cell_type": "code",
   "execution_count": 3,
   "metadata": {},
   "outputs": [
    {
     "name": "stdout",
     "output_type": "stream",
     "text": [
      "1\n",
      "2\n",
      "3\n",
      "4\n",
      "5\n"
     ]
    }
   ],
   "source": [
    "n = int(input('N: '))\n",
    "for i in range(1, n + 1):\n",
    "    print(i)"
   ]
  },
  {
   "cell_type": "code",
   "execution_count": 11,
   "metadata": {},
   "outputs": [
    {
     "name": "stdout",
     "output_type": "stream",
     "text": [
      "Fora de intervalo\n"
     ]
    }
   ],
   "source": [
    "n = float(input('N: '))\n",
    "if n >= 0.25 and n <= 25.00:\n",
    "    print('[0,25]')\n",
    "elif n > 25.00 and n < 50.74:\n",
    "    print('[25,50]')\n",
    "elif n > 75.100:\n",
    "    print('(75,100]')\n",
    "else:\n",
    "    print('Fora de intervalo')"
   ]
  },
  {
   "cell_type": "code",
   "execution_count": null,
   "metadata": {},
   "outputs": [],
   "source": []
  },
  {
   "cell_type": "code",
   "execution_count": null,
   "metadata": {},
   "outputs": [],
   "source": []
  }
 ],
 "metadata": {
  "kernelspec": {
   "display_name": "Python 3.9.12 ('venv': venv)",
   "language": "python",
   "name": "python3"
  },
  "language_info": {
   "codemirror_mode": {
    "name": "ipython",
    "version": 3
   },
   "file_extension": ".py",
   "mimetype": "text/x-python",
   "name": "python",
   "nbconvert_exporter": "python",
   "pygments_lexer": "ipython3",
   "version": "3.9.12"
  },
  "orig_nbformat": 4,
  "vscode": {
   "interpreter": {
    "hash": "bfa182ff0d853a7eb40234bfb9fc43adc75caa9c59f14ce0c939e9ada19ff8b2"
   }
  }
 },
 "nbformat": 4,
 "nbformat_minor": 2
}
